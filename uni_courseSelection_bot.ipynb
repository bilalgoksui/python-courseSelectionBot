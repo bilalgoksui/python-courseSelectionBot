{
 "cells": [
  {
   "cell_type": "code",
   "execution_count": 32,
   "metadata": {},
   "outputs": [],
   "source": [
    "import time\n",
    "import random\n",
    "import pandas as pd\n",
    "import xlsxwriter\n",
    "from selenium import webdriver\n",
    "from selenium.webdriver.chrome.service import Service\n",
    "from selenium.webdriver.common.by import By\n",
    "from selenium.webdriver import ActionChains"
   ]
  },
  {
   "cell_type": "code",
   "execution_count": 33,
   "metadata": {},
   "outputs": [
    {
     "name": "stderr",
     "output_type": "stream",
     "text": [
      "C:\\Users\\goksu\\AppData\\Local\\Temp\\ipykernel_17592\\1013121492.py:2: DeprecationWarning: executable_path has been deprecated, please pass in a Service object\n",
      "  driver = webdriver.Chrome(chrome_path)\n"
     ]
    },
    {
     "ename": "NoSuchWindowException",
     "evalue": "Message: no such window: target window already closed\nfrom unknown error: web view not found\n  (Session info: chrome=110.0.5481.178)\nStacktrace:\nBacktrace:\n\t(No symbol) [0x007137D3]\n\t(No symbol) [0x006A8B81]\n\t(No symbol) [0x005AB36D]\n\t(No symbol) [0x0058E5DA]\n\t(No symbol) [0x005FF0CB]\n\t(No symbol) [0x00610A56]\n\t(No symbol) [0x005FB216]\n\t(No symbol) [0x005D0D97]\n\t(No symbol) [0x005D253D]\n\tGetHandleVerifier [0x0098ABF2+2510930]\n\tGetHandleVerifier [0x009B8EC1+2700065]\n\tGetHandleVerifier [0x009BC86C+2714828]\n\tGetHandleVerifier [0x007C3480+645344]\n\t(No symbol) [0x006B0FD2]\n\t(No symbol) [0x006B6C68]\n\t(No symbol) [0x006B6D4B]\n\t(No symbol) [0x006C0D6B]\n\tBaseThreadInitThunk [0x75FC00F9+25]\n\tRtlGetAppContainerNamedObjectPath [0x77C67BBE+286]\n\tRtlGetAppContainerNamedObjectPath [0x77C67B8E+238]\n",
     "output_type": "error",
     "traceback": [
      "\u001b[1;31m---------------------------------------------------------------------------\u001b[0m",
      "\u001b[1;31mNoSuchWindowException\u001b[0m                     Traceback (most recent call last)",
      "Cell \u001b[1;32mIn[33], line 32\u001b[0m\n\u001b[0;32m     29\u001b[0m \u001b[39mfrom\u001b[39;00m \u001b[39mselenium\u001b[39;00m\u001b[39m.\u001b[39;00m\u001b[39mwebdriver\u001b[39;00m\u001b[39m.\u001b[39;00m\u001b[39msupport\u001b[39;00m \u001b[39mimport\u001b[39;00m expected_conditions \u001b[39mas\u001b[39;00m EC\n\u001b[0;32m     31\u001b[0m \u001b[39m# wait for a certain element to appear after login\u001b[39;00m\n\u001b[1;32m---> 32\u001b[0m element \u001b[39m=\u001b[39m WebDriverWait(driver, \u001b[39m10\u001b[39;49m)\u001b[39m.\u001b[39;49muntil(\n\u001b[0;32m     33\u001b[0m     EC\u001b[39m.\u001b[39;49mpresence_of_element_located((By\u001b[39m.\u001b[39;49mID, \u001b[39m\"\u001b[39;49m\u001b[39mdurumsec\u001b[39;49m\u001b[39m\"\u001b[39;49m))\n\u001b[0;32m     34\u001b[0m )\n\u001b[0;32m     38\u001b[0m \u001b[39m# find the element by its ID\u001b[39;00m\n\u001b[0;32m     39\u001b[0m element \u001b[39m=\u001b[39m driver\u001b[39m.\u001b[39mfind_element_by_id(\u001b[39m\"\u001b[39m\u001b[39mdurumsec\u001b[39m\u001b[39m\"\u001b[39m)\n",
      "File \u001b[1;32mc:\\Users\\goksu\\AppData\\Local\\Programs\\Python\\Python310\\lib\\site-packages\\selenium\\webdriver\\support\\wait.py:86\u001b[0m, in \u001b[0;36mWebDriverWait.until\u001b[1;34m(self, method, message)\u001b[0m\n\u001b[0;32m     84\u001b[0m \u001b[39mwhile\u001b[39;00m \u001b[39mTrue\u001b[39;00m:\n\u001b[0;32m     85\u001b[0m     \u001b[39mtry\u001b[39;00m:\n\u001b[1;32m---> 86\u001b[0m         value \u001b[39m=\u001b[39m method(\u001b[39mself\u001b[39;49m\u001b[39m.\u001b[39;49m_driver)\n\u001b[0;32m     87\u001b[0m         \u001b[39mif\u001b[39;00m value:\n\u001b[0;32m     88\u001b[0m             \u001b[39mreturn\u001b[39;00m value\n",
      "File \u001b[1;32mc:\\Users\\goksu\\AppData\\Local\\Programs\\Python\\Python310\\lib\\site-packages\\selenium\\webdriver\\support\\expected_conditions.py:69\u001b[0m, in \u001b[0;36mpresence_of_element_located.<locals>._predicate\u001b[1;34m(driver)\u001b[0m\n\u001b[0;32m     68\u001b[0m \u001b[39mdef\u001b[39;00m \u001b[39m_predicate\u001b[39m(driver):\n\u001b[1;32m---> 69\u001b[0m     \u001b[39mreturn\u001b[39;00m driver\u001b[39m.\u001b[39;49mfind_element(\u001b[39m*\u001b[39;49mlocator)\n",
      "File \u001b[1;32mc:\\Users\\goksu\\AppData\\Local\\Programs\\Python\\Python310\\lib\\site-packages\\selenium\\webdriver\\remote\\webdriver.py:830\u001b[0m, in \u001b[0;36mWebDriver.find_element\u001b[1;34m(self, by, value)\u001b[0m\n\u001b[0;32m    827\u001b[0m     by \u001b[39m=\u001b[39m By\u001b[39m.\u001b[39mCSS_SELECTOR\n\u001b[0;32m    828\u001b[0m     value \u001b[39m=\u001b[39m \u001b[39mf\u001b[39m\u001b[39m'\u001b[39m\u001b[39m[name=\u001b[39m\u001b[39m\"\u001b[39m\u001b[39m{\u001b[39;00mvalue\u001b[39m}\u001b[39;00m\u001b[39m\"\u001b[39m\u001b[39m]\u001b[39m\u001b[39m'\u001b[39m\n\u001b[1;32m--> 830\u001b[0m \u001b[39mreturn\u001b[39;00m \u001b[39mself\u001b[39;49m\u001b[39m.\u001b[39;49mexecute(Command\u001b[39m.\u001b[39;49mFIND_ELEMENT, {\u001b[39m\"\u001b[39;49m\u001b[39musing\u001b[39;49m\u001b[39m\"\u001b[39;49m: by, \u001b[39m\"\u001b[39;49m\u001b[39mvalue\u001b[39;49m\u001b[39m\"\u001b[39;49m: value})[\u001b[39m\"\u001b[39m\u001b[39mvalue\u001b[39m\u001b[39m\"\u001b[39m]\n",
      "File \u001b[1;32mc:\\Users\\goksu\\AppData\\Local\\Programs\\Python\\Python310\\lib\\site-packages\\selenium\\webdriver\\remote\\webdriver.py:440\u001b[0m, in \u001b[0;36mWebDriver.execute\u001b[1;34m(self, driver_command, params)\u001b[0m\n\u001b[0;32m    438\u001b[0m response \u001b[39m=\u001b[39m \u001b[39mself\u001b[39m\u001b[39m.\u001b[39mcommand_executor\u001b[39m.\u001b[39mexecute(driver_command, params)\n\u001b[0;32m    439\u001b[0m \u001b[39mif\u001b[39;00m response:\n\u001b[1;32m--> 440\u001b[0m     \u001b[39mself\u001b[39;49m\u001b[39m.\u001b[39;49merror_handler\u001b[39m.\u001b[39;49mcheck_response(response)\n\u001b[0;32m    441\u001b[0m     response[\u001b[39m\"\u001b[39m\u001b[39mvalue\u001b[39m\u001b[39m\"\u001b[39m] \u001b[39m=\u001b[39m \u001b[39mself\u001b[39m\u001b[39m.\u001b[39m_unwrap_value(response\u001b[39m.\u001b[39mget(\u001b[39m\"\u001b[39m\u001b[39mvalue\u001b[39m\u001b[39m\"\u001b[39m, \u001b[39mNone\u001b[39;00m))\n\u001b[0;32m    442\u001b[0m     \u001b[39mreturn\u001b[39;00m response\n",
      "File \u001b[1;32mc:\\Users\\goksu\\AppData\\Local\\Programs\\Python\\Python310\\lib\\site-packages\\selenium\\webdriver\\remote\\errorhandler.py:245\u001b[0m, in \u001b[0;36mErrorHandler.check_response\u001b[1;34m(self, response)\u001b[0m\n\u001b[0;32m    243\u001b[0m         alert_text \u001b[39m=\u001b[39m value[\u001b[39m\"\u001b[39m\u001b[39malert\u001b[39m\u001b[39m\"\u001b[39m]\u001b[39m.\u001b[39mget(\u001b[39m\"\u001b[39m\u001b[39mtext\u001b[39m\u001b[39m\"\u001b[39m)\n\u001b[0;32m    244\u001b[0m     \u001b[39mraise\u001b[39;00m exception_class(message, screen, stacktrace, alert_text)  \u001b[39m# type: ignore[call-arg]  # mypy is not smart enough here\u001b[39;00m\n\u001b[1;32m--> 245\u001b[0m \u001b[39mraise\u001b[39;00m exception_class(message, screen, stacktrace)\n",
      "\u001b[1;31mNoSuchWindowException\u001b[0m: Message: no such window: target window already closed\nfrom unknown error: web view not found\n  (Session info: chrome=110.0.5481.178)\nStacktrace:\nBacktrace:\n\t(No symbol) [0x007137D3]\n\t(No symbol) [0x006A8B81]\n\t(No symbol) [0x005AB36D]\n\t(No symbol) [0x0058E5DA]\n\t(No symbol) [0x005FF0CB]\n\t(No symbol) [0x00610A56]\n\t(No symbol) [0x005FB216]\n\t(No symbol) [0x005D0D97]\n\t(No symbol) [0x005D253D]\n\tGetHandleVerifier [0x0098ABF2+2510930]\n\tGetHandleVerifier [0x009B8EC1+2700065]\n\tGetHandleVerifier [0x009BC86C+2714828]\n\tGetHandleVerifier [0x007C3480+645344]\n\t(No symbol) [0x006B0FD2]\n\t(No symbol) [0x006B6C68]\n\t(No symbol) [0x006B6D4B]\n\t(No symbol) [0x006C0D6B]\n\tBaseThreadInitThunk [0x75FC00F9+25]\n\tRtlGetAppContainerNamedObjectPath [0x77C67BBE+286]\n\tRtlGetAppContainerNamedObjectPath [0x77C67B8E+238]\n"
     ]
    }
   ],
   "source": [
    "chrome_path = r\"C:\\Selenium\\chromedriver.exe\"\n",
    "driver = webdriver.Chrome(chrome_path)\n",
    "url = r\"www.uniwebsite.com\"\n",
    "driver.get(url)\n",
    "\n",
    "from selenium.webdriver.support.ui import WebDriverWait\n",
    "from selenium.webdriver.support import expected_conditions as EC\n",
    "from selenium.webdriver.common.by import By\n",
    "\n",
    "# ...\n",
    "# idd=\"****\"\n",
    "# id = WebDriverWait(driver, 1000).until(EC.element_to_be_clickable((By.ID, \"inputUsername\")))\n",
    "# id.send_keys(idd)\n",
    "\n",
    "number = \"*********\"\n",
    "id = driver.find_element(\"id\",\"inputUsername\")\n",
    "id.send_keys(number)\n",
    "\n",
    "password = driver.find_element(\"id\",\"inputPassword\")\n",
    "password.send_keys(\"*****\")\n",
    "\n",
    "loginBtn = driver.find_element(By.NAME, \"button\")\n",
    "\n",
    "loginBtn.click()\n",
    "  \n",
    "\n",
    "\n",
    "from selenium.webdriver.support.ui import WebDriverWait\n",
    "from selenium.webdriver.support import expected_conditions as EC\n",
    "\n",
    "# wait for a certain element to appear after login\n",
    "element = WebDriverWait(driver, 10).until(\n",
    "    EC.presence_of_element_located((By.ID, \"durumsec\"))\n",
    ")\n",
    "\n",
    "\n",
    "\n",
    "# find the element by its ID\n",
    "element = driver.find_element_by_id(\"durumsec\")\n",
    "\n",
    "# find the anchor element within the selected element\n",
    "anchor_element = element.find_element_by_tag_name(\"a\")\n",
    "\n",
    "# click the anchor element\n",
    "anchor_element.click()\n",
    "\n",
    "# close the browser\n",
    "driver.quit()\n",
    "\n"
   ]
  },
  {
   "cell_type": "code",
   "execution_count": null,
   "metadata": {},
   "outputs": [],
   "source": [
    "chrome_path = r\"C:\\Selenium\\chromedriver.exe\"\n",
    "driver = webdriver.Chrome(chrome_path)\n",
    "url = r\"www.uniwebsite.com\"\n",
    "driver.get(url)\n",
    "\n",
    "from selenium.webdriver.support.ui import WebDriverWait\n",
    "from selenium.webdriver.support import expected_conditions as EC\n",
    "from selenium.webdriver.common.by import By\n",
    "\n",
    "# ...\n",
    "\n",
    "number = \"*****\"\n",
    "number_parts = [number[i:i+2] for i in range(0, len(number), 2)]  # split number into 2 by 2 array\n",
    "\n",
    "id = WebDriverWait(driver, 10).until(EC.element_to_be_clickable((By.ID, \"inputUsername\")))\n",
    "\n",
    "for part in number_parts:\n",
    "    id.send_keys(part)\n",
    "    time.sleep(0.5)  # wait for half a second before entering the next part\n",
    "\n",
    "password = driver.find_element(By.ID, \"inputPassword\")\n",
    "password.send_keys(\"******\")\n",
    "\n",
    "loginBtn = driver.find_element(By.NAME, \"button\")\n",
    "loginBtn.click()\n"
   ]
  },
  {
   "cell_type": "code",
   "execution_count": null,
   "metadata": {},
   "outputs": [
    {
     "name": "stderr",
     "output_type": "stream",
     "text": [
      "C:\\Users\\goksu\\AppData\\Local\\Temp\\ipykernel_17592\\3384252345.py:2: DeprecationWarning: executable_path has been deprecated, please pass in a Service object\n",
      "  driver = webdriver.Chrome(chrome_path)\n"
     ]
    },
    {
     "ename": "AttributeError",
     "evalue": "'WebElement' object has no attribute 'find_element_by_tag_name'",
     "output_type": "error",
     "traceback": [
      "\u001b[1;31m---------------------------------------------------------------------------\u001b[0m",
      "\u001b[1;31mAttributeError\u001b[0m                            Traceback (most recent call last)",
      "Cell \u001b[1;32mIn[20], line 24\u001b[0m\n\u001b[0;32m     21\u001b[0m table_element \u001b[39m=\u001b[39m WebDriverWait(driver, \u001b[39m10\u001b[39m)\u001b[39m.\u001b[39muntil(EC\u001b[39m.\u001b[39mpresence_of_element_located((By\u001b[39m.\u001b[39mID, \u001b[39m\"\u001b[39m\u001b[39mdurumsec\u001b[39m\u001b[39m\"\u001b[39m)))\n\u001b[0;32m     23\u001b[0m \u001b[39m# find the anchor element within the table element\u001b[39;00m\n\u001b[1;32m---> 24\u001b[0m anchor_element \u001b[39m=\u001b[39m table_element\u001b[39m.\u001b[39;49mfind_element_by_tag_name(\u001b[39m\"\u001b[39m\u001b[39ma\u001b[39m\u001b[39m\"\u001b[39m)\n\u001b[0;32m     26\u001b[0m \u001b[39m# click the anchor element\u001b[39;00m\n\u001b[0;32m     27\u001b[0m anchor_element\u001b[39m.\u001b[39mclick()\n",
      "\u001b[1;31mAttributeError\u001b[0m: 'WebElement' object has no attribute 'find_element_by_tag_name'"
     ]
    }
   ],
   "source": [
    "chrome_path = r\"C:\\Selenium\\chromedriver.exe\"\n",
    "driver = webdriver.Chrome(chrome_path)\n",
    "url = r\"www.uniwebsite.com\"\n",
    "driver.get(url)\n",
    "\n",
    "from selenium.webdriver.support.ui import WebDriverWait\n",
    "from selenium.webdriver.support import expected_conditions as EC\n",
    "from selenium.webdriver.common.by import By\n",
    "\n",
    "number = \"*****\"\n",
    "id = driver.find_element(\"id\",\"inputUsername\")\n",
    "id.send_keys(number)\n",
    "\n",
    "password = driver.find_element(\"id\",\"inputPassword\")\n",
    "password.send_keys(\"******\")\n",
    "\n",
    "loginBtn = driver.find_element(By.NAME, \"button\")\n",
    "loginBtn.click()\n",
    "\n",
    "# switch to the iframe\n",
    "iframe = WebDriverWait(driver, 10).until(EC.presence_of_element_located((By.ID, \"donemlabel\")))\n",
    "driver.switch_to.frame(iframe)\n",
    "\n",
    "# wait for a certain element to appear after login\n",
    "element = WebDriverWait(driver, 10).until(EC.presence_of_element_located((By.ID, \"donemlabel\")))\n",
    "\n",
    "# find the element by its ID\n",
    "element = driver.find_element_by_id(\"donemlabel\")\n",
    "\n",
    "# find the anchor element within the selected element\n",
    "anchor_element = element.find_element_by_tag_name(\"a\")\n",
    "\n",
    "# click the anchor element\n",
    "anchor_element.click()\n",
    "ocbtn = driver.find_element(By.CLASS_NAME, \"button\")\n",
    "ocbtn.click()\n",
    "\n",
    "# switch back to the default content\n",
    "driver.switch_to.default_content()\n",
    "\n",
    "# close the browser\n",
    "driver.quit()\n"
   ]
  },
  {
   "cell_type": "code",
   "execution_count": null,
   "metadata": {},
   "outputs": [
    {
     "name": "stderr",
     "output_type": "stream",
     "text": [
      "C:\\Users\\goksu\\AppData\\Local\\Temp\\ipykernel_17592\\3625178136.py:2: DeprecationWarning: executable_path has been deprecated, please pass in a Service object\n",
      "  driver = webdriver.Chrome(chrome_path)\n"
     ]
    },
    {
     "ename": "AttributeError",
     "evalue": "'WebDriver' object has no attribute 'find_element_by_xpath'",
     "output_type": "error",
     "traceback": [
      "\u001b[1;31m---------------------------------------------------------------------------\u001b[0m",
      "\u001b[1;31mAttributeError\u001b[0m                            Traceback (most recent call last)",
      "Cell \u001b[1;32mIn[26], line 22\u001b[0m\n\u001b[0;32m     19\u001b[0m loginBtn\u001b[39m.\u001b[39mclick()\n\u001b[0;32m     21\u001b[0m \u001b[39m# Click \"SEÇ\"\u001b[39;00m\n\u001b[1;32m---> 22\u001b[0m button \u001b[39m=\u001b[39m driver\u001b[39m.\u001b[39;49mfind_element_by_xpath(\u001b[39m\"\u001b[39m\u001b[39m//td[contains(text(), \u001b[39m\u001b[39m'\u001b[39m\u001b[39mField Elective\u001b[39m\u001b[39m'\u001b[39m\u001b[39m)]/following-sibling::td/a/span[@class=\u001b[39m\u001b[39m'\u001b[39m\u001b[39mlabel label-important\u001b[39m\u001b[39m'\u001b[39m\u001b[39m][2]\u001b[39m\u001b[39m\"\u001b[39m)\n\u001b[0;32m     23\u001b[0m button\u001b[39m.\u001b[39mclick()\n",
      "\u001b[1;31mAttributeError\u001b[0m: 'WebDriver' object has no attribute 'find_element_by_xpath'"
     ]
    }
   ],
   "source": [
    "chrome_path = r\"C:\\Selenium\\chromedriver.exe\"\n",
    "driver = webdriver.Chrome(chrome_path)\n",
    "url = r\"www.uniwebsite.com\"\n",
    "driver.get(url)\n",
    "\n",
    "from selenium.webdriver.support.ui import WebDriverWait\n",
    "from selenium.webdriver.support import expected_conditions as EC\n",
    "from selenium.webdriver.common.by import By\n",
    "\n",
    "# Login\n",
    "number = \"*****\"\n",
    "id = driver.find_element(\"id\",\"inputUsername\")\n",
    "id.send_keys(number)\n",
    "\n",
    "password = driver.find_element(\"id\",\"inputPassword\")\n",
    "password.send_keys(\"*****\")\n",
    "\n",
    "loginBtn = driver.find_element(By.NAME, \"button\")\n",
    "loginBtn.click()\n",
    "\n",
    "# Click \"SEÇ\"\n",
    "button = driver.find_element_by_xpath(\"//td[contains(text(), 'Field Elective')]/following-sibling::td/a/span[@class='label label-important'][2]\")\n",
    "button.click()\n",
    "\n"
   ]
  },
  {
   "cell_type": "code",
   "execution_count": 34,
   "metadata": {},
   "outputs": [
    {
     "name": "stderr",
     "output_type": "stream",
     "text": [
      "C:\\Users\\goksu\\AppData\\Local\\Temp\\ipykernel_17592\\3550955955.py:2: DeprecationWarning: executable_path has been deprecated, please pass in a Service object\n",
      "  driver = webdriver.Chrome(chrome_path)\n"
     ]
    }
   ],
   "source": [
    "chrome_path = r\"C:\\Selenium\\chromedriver.exe\"\n",
    "driver = webdriver.Chrome(chrome_path)\n",
    "url = r\"www.uniwebsite.com\"\n",
    "driver.get(url)\n",
    "\n",
    "from selenium.webdriver.support.ui import WebDriverWait\n",
    "from selenium.webdriver.support import expected_conditions as EC\n",
    "from selenium.webdriver.common.by import By\n",
    "\n",
    "# Login\n",
    "number = \"\"\n",
    "id = driver.find_element(\"id\",\"inputUsername\")\n",
    "id.send_keys(number)\n",
    "\n",
    "password = driver.find_element(\"id\",\"inputPassword\")\n",
    "password.send_keys(\"*******\")\n",
    "\n",
    "loginBtn = driver.find_element(By.NAME, \"button\")\n",
    "loginBtn.click()\n",
    "\n",
    "# Click \"SEÇ\"\n",
    "selectBtn = WebDriverWait(driver, 10).until(EC.element_to_be_clickable((By.XPATH, '//span[text()=\"SEÇ\"]')))\n",
    "selectBtn.click()\n",
    "\n",
    "selectBtn = WebDriverWait(driver, 10).until(EC.element_to_be_clickable((By.ID, \"btnuzunluk\")))\n",
    "\n",
    "selectBtn.click()\n"
   ]
  },
  {
   "attachments": {},
   "cell_type": "markdown",
   "metadata": {},
   "source": []
  }
 ],
 "metadata": {
  "kernelspec": {
   "display_name": "Python 3",
   "language": "python",
   "name": "python3"
  },
  "language_info": {
   "codemirror_mode": {
    "name": "ipython",
    "version": 3
   },
   "file_extension": ".py",
   "mimetype": "text/x-python",
   "name": "python",
   "nbconvert_exporter": "python",
   "pygments_lexer": "ipython3",
   "version": "3.10.10"
  },
  "orig_nbformat": 4,
  "vscode": {
   "interpreter": {
    "hash": "f8c826d6a43a26bed2638c3e4c10bdaaa43bf0d2cc2057776a0e3784d48fcaf1"
   }
  }
 },
 "nbformat": 4,
 "nbformat_minor": 2
}
